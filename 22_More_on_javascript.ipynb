{
  "nbformat": 4,
  "nbformat_minor": 0,
  "metadata": {
    "colab": {
      "provenance": []
    },
    "kernelspec": {
      "name": "python3",
      "display_name": "Python 3"
    },
    "language_info": {
      "name": "python"
    }
  },
  "cells": [
    {
      "cell_type": "code",
      "execution_count": null,
      "metadata": {
        "id": "4JGhsNnIp920"
      },
      "outputs": [],
      "source": [
        "1.Consider the following code and predict the output. Explain why the behavior occurs."
      ]
    },
    {
      "cell_type": "code",
      "source": [
        "const person = {\n",
        "    name: \"Alice\",\n",
        "    greet: function() {\n",
        "        setTimeout(() => {\n",
        "            console.log('Hello, my name is $(this.name)');\n",
        "        }, 1000);\n",
        "    }\n",
        "};\n",
        "person.greet();"
      ],
      "metadata": {
        "id": "LzQi6-usqVq1"
      },
      "execution_count": null,
      "outputs": []
    },
    {
      "cell_type": "markdown",
      "source": [
        "**Answer-**\n",
        "\n",
        "The output will be:\n",
        "Hello, my name is Alice\n",
        "\n",
        "Explanation:\n",
        "Arrow functions do not have their own this context. Instead, they lexically capture the this value from their surrounding scope. In this case, the arrow function inside setTimeout inherits this from the greet method, where this refers to the person object (since greet is called as a method on person). Therefore, this.name correctly resolves to \"Alice\".\n",
        "\n",
        "If a regular function were used instead of an arrow function, this would have been bound to the global object (or undefined in strict mode), leading to this.name being undefined. However, the arrow function preserves the lexical this, resulting in the expected behavior.**bold text**"
      ],
      "metadata": {
        "id": "l1dikzl4qhHj"
      }
    },
    {
      "cell_type": "markdown",
      "source": [
        "2. Convert Traditional Functions to Arrow Functions\n",
        "\n",
        "Rewrite the following function using arrow functions without changing the behavior:\n",
        "\n",
        "\n",
        "\n",
        "```\n",
        "function multiply(a, b) {\n",
        "    return a * b;\n",
        "}\n",
        "\n",
        "const obj = {\n",
        "    value: 10,\n",
        "    add: function(num) {\n",
        "        return this.value + num;\n",
        "    }\n",
        "};\n",
        "\n",
        "console.log(multiply(5, 3));\n",
        "console.log(obj.add(5));```\n",
        "\n"
      ],
      "metadata": {
        "id": "jnh-jf-ar6-m"
      }
    },
    {
      "cell_type": "code",
      "source": [
        "Answer -\n",
        "\n",
        "const multiply = (a, b) => a * b;\n",
        "\n",
        "const obj = {\n",
        "  value: 10,\n",
        "  add: (num) => obj.value + num\n",
        "};\n",
        "\n",
        "console.log(multiply(5, 3));\n",
        "console.log(obj.add(5));\n"
      ],
      "metadata": {
        "id": "qX0QhJQEzwEE"
      },
      "execution_count": null,
      "outputs": []
    },
    {
      "cell_type": "markdown",
      "source": [
        "3. Handling Errors in Async-Await (Try-Catch Required)\n",
        "\n",
        "Modify the following function to use async-await and proper error handling (try-catch).\n",
        "\n",
        "\n",
        "\n",
        "```\n",
        "function fetchData() {\n",
        "    return new Promise((resolve, reject) => {\n",
        "        setTimeout(() => {\n",
        "            let success = Math.random() > 0.5;\n",
        "            success ? resolve(\"Data received\") : reject(\"Error fetching data\");\n",
        "        }, 2000);\n",
        "    });\n",
        "}\n",
        "\n",
        "fetchData().then(console.log).catch(console.error);\n",
        "```\n",
        "\n"
      ],
      "metadata": {
        "id": "tcL1-IQO0YeJ"
      }
    },
    {
      "cell_type": "code",
      "source": [
        "async function fetchData() {\n",
        "  try {\n",
        "    const result = await new Promise((resolve, reject) => {\n",
        "      setTimeout(() => {\n",
        "        let success = Math.random() > 0.5;\n",
        "        success ? resolve(\"Data received\") : reject(\"Error fetching data\");\n",
        "      }, 2000);\n",
        "    });\n",
        "    console.log(result);\n",
        "    return result;\n",
        "  } catch (error) {\n",
        "    console.error(error);\n",
        "  }\n",
        "}\n",
        "\n",
        "async function handleFetch() {\n",
        "  try {\n",
        "    await fetchData();\n",
        "  } catch (error) {\n",
        "    console.error(error);\n",
        "  }\n",
        "}\n",
        "\n",
        "handleFetch();"
      ],
      "metadata": {
        "id": "JmUEcDB53XpX"
      },
      "execution_count": null,
      "outputs": []
    },
    {
      "cell_type": "markdown",
      "source": [
        "Q4: Async Function with Multiple Await Calls\n",
        "\n",
        "Write an async function that7\n",
        "1. Fetches user data after 1 second\n",
        "2. Fetches order details after 2 seconds\n",
        "3. Fetches payment status after 3 seconds\n",
        "4. Logs the final \"Order completed\" message\n",
        "5. Use await to ensure each step executes sequentially."
      ],
      "metadata": {
        "id": "ArMXtfG_u718"
      }
    },
    {
      "cell_type": "code",
      "source": [
        "\n",
        "async function fetchUserData() {\n",
        "  return new Promise((resolve) => {\n",
        "    setTimeout(() => {\n",
        "      resolve({ userId: 123, name: \"Ashish Chodankar\", email: \"ashish@gmail.com\" });\n",
        "    }, 1000);\n",
        "  });\n",
        "}\n",
        "\n",
        "async function fetchOrderDetails() {\n",
        "  return new Promise((resolve) => {\n",
        "    setTimeout(() => {\n",
        "      resolve({ orderId: 456, total: 99.99, items: 3, status: \"processed\" });\n",
        "    }, 2000);\n",
        "  });\n",
        "}\n",
        "\n",
        "async function fetchPaymentStatus() {\n",
        "  return new Promise((resolve) => {\n",
        "    setTimeout(() => {\n",
        "      resolve({\n",
        "        paymentId: 789,\n",
        "        amount: 99.99,\n",
        "        status: \"complited\",\n",
        "        method: \"credit card\",\n",
        "      });\n",
        "    }, 3000);\n",
        "  });\n",
        "}\n",
        "\n",
        "async function processOrder() {\n",
        "  try {\n",
        "    console.log(\"Starting order processing...\");\n",
        "    console.log(\"Fetching user data...\");\n",
        "    const userData = await fetchUserData();\n",
        "    console.log(\"User data received:\", userData);\n",
        "\n",
        "    console.log(\"Fetching order details...\");\n",
        "    const orderDetails = await fetchOrderDetails();\n",
        "    console.log(\"Order details received:\", orderDetails);\n",
        "\n",
        "    console.log(\"Fetching payment status...\");\n",
        "    const paymentStatus = await fetchPaymentStatus();\n",
        "    console.log(\"Payment status received:\", paymentStatus);\n",
        "\n",
        "    console.log(\"Order completed successfully!\");\n",
        "    console.log(\"Summary:\", {\n",
        "      user: userData.name,\n",
        "      orderTotal: orderDetails.total,\n",
        "      paymentStatus: paymentStatus.status,\n",
        "    });\n",
        "\n",
        "    return { userData, orderDetails, paymentStatus };\n",
        "  } catch (error) {\n",
        "    console.error(\"Error processing order:\", error);\n",
        "  }\n",
        "}\n",
        "\n",
        "processOrder()\n",
        "  .then((result) => {\n",
        "    console.log(\"Order processing finished\");\n",
        "  })\n",
        "  .catch((error) => {\n",
        "    console.error(\"Order processing failed\", error);\n",
        "  });\n"
      ],
      "metadata": {
        "id": "-IBrI2-8vIYw"
      },
      "execution_count": null,
      "outputs": []
    },
    {
      "cell_type": "markdown",
      "source": [
        "Q5: Handling Synchronous Errors with try-catch\n",
        "\n",
        "Write a function that\n",
        "\n",
        "1.Accepts a string input\n",
        "\n",
        "2.Converts it to a number and returns its square\n",
        "\n",
        "3.Uses try-catch to handle cases where the input is not a valid number\n",
        "\n",
        "4.If the error occurs, return \"Invalid Input\" instead of crashing."
      ],
      "metadata": {
        "id": "03VI5hRsvNSV"
      }
    },
    {
      "cell_type": "code",
      "source": [
        "function square(input) {\n",
        "  try {\n",
        "    const number = Number(input);\n",
        "    if (!isNaN(number)) {\n",
        "      return number * number;\n",
        "    } else {\n",
        "      throw new Error(\"Invalid input\");\n",
        "    }\n",
        "  } catch (error) {\n",
        "    return \"Invalid Input\";\n",
        "  }\n",
        "}\n",
        "\n",
        "console.log(square(\"9\"));\n"
      ],
      "metadata": {
        "id": "34Zoo93y6feY"
      },
      "execution_count": null,
      "outputs": []
    }
  ]
}